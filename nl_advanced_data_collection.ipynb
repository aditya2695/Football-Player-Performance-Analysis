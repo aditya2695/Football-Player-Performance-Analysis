{
 "cells": [
  {
   "cell_type": "code",
   "execution_count": 25,
   "metadata": {},
   "outputs": [],
   "source": [
    "from bs4 import BeautifulSoup\n",
    "import requests\n",
    "import pandas as pd\n",
    "import numpy as np\n",
    "import re"
   ]
  },
  {
   "cell_type": "code",
   "execution_count": 41,
   "metadata": {},
   "outputs": [],
   "source": [
    "home_url = \"https://www.playmakerstats.com/edition_stats.php?id_edicao=166088&id_equipa=0&v=jt14&o=pinf&pos=0&pais=0&v1=j&v2=t&v3=14&page=\"\n"
   ]
  },
  {
   "cell_type": "code",
   "execution_count": 42,
   "metadata": {},
   "outputs": [],
   "source": [
    "\n",
    "ths = ['', 'Player', 'M', 'G', 'ASS', 'DIN', 'PDIN']"
   ]
  },
  {
   "cell_type": "code",
   "execution_count": 43,
   "metadata": {},
   "outputs": [
    {
     "data": {
      "text/plain": [
       "[['1', '\\xa0\\xa0Paul Mullin [Wrexham]', '46', '38', '10', '48', '41'],\n",
       " ['1',\n",
       "  '\\xa0\\xa0Macaulay Langstaff [Notts County]',\n",
       "  '47',\n",
       "  '42',\n",
       "  '8',\n",
       "  '50',\n",
       "  '41'],\n",
       " ['3',\n",
       "  '\\xa0\\xa0Andrew Dallas [Chesterfield, Solihull Moors]',\n",
       "  '48',\n",
       "  '20',\n",
       "  '12',\n",
       "  '32',\n",
       "  '40']]"
      ]
     },
     "execution_count": 43,
     "metadata": {},
     "output_type": "execute_result"
    }
   ],
   "source": [
    "data=[]\n",
    "\n",
    "index=1\n",
    "for tr in table.tbody.findAll('tr'):\n",
    "    tr_data=[]\n",
    "    for td in tr.findAll('td'):\n",
    "        tr_data.append(td.text)\n",
    "    data.append(tr_data)\n",
    "    \n",
    "\n",
    "data[:3]    \n"
   ]
  },
  {
   "cell_type": "code",
   "execution_count": 48,
   "metadata": {},
   "outputs": [
    {
     "name": "stdout",
     "output_type": "stream",
     "text": [
      "https://www.playmakerstats.com/edition_stats.php?id_edicao=166088&id_equipa=0&v=jt14&o=pinf&pos=0&pais=0&v1=j&v2=t&v3=14&page=0\n"
     ]
    },
    {
     "ename": "AttributeError",
     "evalue": "'NoneType' object has no attribute 'tbody'",
     "output_type": "error",
     "traceback": [
      "\u001b[1;31m---------------------------------------------------------------------------\u001b[0m",
      "\u001b[1;31mAttributeError\u001b[0m                            Traceback (most recent call last)",
      "Cell \u001b[1;32mIn[48], line 22\u001b[0m\n\u001b[0;32m     18\u001b[0m             data\u001b[39m.\u001b[39mappend(tr_data)\n\u001b[0;32m     20\u001b[0m         page \u001b[39m+\u001b[39m\u001b[39m=\u001b[39m \u001b[39m1\u001b[39m\n\u001b[1;32m---> 22\u001b[0m get_nl_data(home_url)\n\u001b[0;32m     23\u001b[0m \u001b[39mprint\u001b[39m(\u001b[39mlen\u001b[39m(data))\n",
      "Cell \u001b[1;32mIn[48], line 14\u001b[0m, in \u001b[0;36mget_nl_data\u001b[1;34m(home_url, max_pages)\u001b[0m\n\u001b[0;32m     11\u001b[0m soup \u001b[39m=\u001b[39m BeautifulSoup(response\u001b[39m.\u001b[39mtext, \u001b[39m'\u001b[39m\u001b[39mhtml.parser\u001b[39m\u001b[39m'\u001b[39m)\n\u001b[0;32m     12\u001b[0m table \u001b[39m=\u001b[39m soup\u001b[39m.\u001b[39mfind(\u001b[39m'\u001b[39m\u001b[39mtable\u001b[39m\u001b[39m'\u001b[39m, class_\u001b[39m=\u001b[39m\u001b[39m'\u001b[39m\u001b[39mzztable stats\u001b[39m\u001b[39m'\u001b[39m)\n\u001b[1;32m---> 14\u001b[0m \u001b[39mfor\u001b[39;00m tr \u001b[39min\u001b[39;00m table\u001b[39m.\u001b[39;49mtbody\u001b[39m.\u001b[39mfindAll(\u001b[39m'\u001b[39m\u001b[39mtr\u001b[39m\u001b[39m'\u001b[39m):\n\u001b[0;32m     15\u001b[0m     tr_data \u001b[39m=\u001b[39m []\n\u001b[0;32m     16\u001b[0m     \u001b[39mfor\u001b[39;00m td \u001b[39min\u001b[39;00m tr\u001b[39m.\u001b[39mfindAll(\u001b[39m'\u001b[39m\u001b[39mtd\u001b[39m\u001b[39m'\u001b[39m):\n",
      "\u001b[1;31mAttributeError\u001b[0m: 'NoneType' object has no attribute 'tbody'"
     ]
    }
   ],
   "source": [
    "data = []\n",
    "home_url = \"https://www.playmakerstats.com/edition_stats.php?id_edicao=166088&id_equipa=0&v=jt14&o=pinf&pos=0&pais=0&v1=j&v2=t&v3=14&page=\"\n",
    "\n",
    "def get_nl_data(home_url, max_pages=6):\n",
    "    page = 0\n",
    "\n",
    "    while page < max_pages:\n",
    "        url = home_url + str(page)\n",
    "        print(url)\n",
    "        response = requests.get(url)\n",
    "        soup = BeautifulSoup(response.text, 'html.parser')\n",
    "        table = soup.find('table', class_='zztable stats')\n",
    "\n",
    "        for tr in table.tbody.findAll('tr'):\n",
    "            tr_data = []\n",
    "            for td in tr.findAll('td'):\n",
    "                tr_data.append(td.text)\n",
    "            data.append(tr_data)\n",
    "\n",
    "        page += 1\n",
    "\n",
    "get_nl_data(home_url)\n",
    "print(len(data))"
   ]
  },
  {
   "cell_type": "code",
   "execution_count": 47,
   "metadata": {},
   "outputs": [
    {
     "name": "stdout",
     "output_type": "stream",
     "text": [
      "https://www.playmakerstats.com/edition_stats.php?id_edicao=166088&id_equipa=0&v=jt14&o=pinf&pos=0&pais=0&v1=j&v2=t&v3=14&page=0\n"
     ]
    },
    {
     "ename": "AttributeError",
     "evalue": "'NoneType' object has no attribute 'tbody'",
     "output_type": "error",
     "traceback": [
      "\u001b[1;31m---------------------------------------------------------------------------\u001b[0m",
      "\u001b[1;31mAttributeError\u001b[0m                            Traceback (most recent call last)",
      "Cell \u001b[1;32mIn[47], line 27\u001b[0m\n\u001b[0;32m     23\u001b[0m     \u001b[39melse\u001b[39;00m:\n\u001b[0;32m     24\u001b[0m         \u001b[39mreturn\u001b[39;00m data\n\u001b[1;32m---> 27\u001b[0m data \u001b[39m=\u001b[39m get_nl_data(home_url)\n\u001b[0;32m     28\u001b[0m \u001b[39mlen\u001b[39m(data)\n",
      "Cell \u001b[1;32mIn[47], line 11\u001b[0m, in \u001b[0;36mget_nl_data\u001b[1;34m(home_url, page)\u001b[0m\n\u001b[0;32m      8\u001b[0m soup \u001b[39m=\u001b[39m BeautifulSoup(response\u001b[39m.\u001b[39mtext, \u001b[39m'\u001b[39m\u001b[39mhtml.parser\u001b[39m\u001b[39m'\u001b[39m)\n\u001b[0;32m      9\u001b[0m table \u001b[39m=\u001b[39m soup\u001b[39m.\u001b[39mfind(\u001b[39m'\u001b[39m\u001b[39mtable\u001b[39m\u001b[39m'\u001b[39m, class_\u001b[39m=\u001b[39m\u001b[39m'\u001b[39m\u001b[39mzztable stats\u001b[39m\u001b[39m'\u001b[39m)\n\u001b[1;32m---> 11\u001b[0m \u001b[39mprint\u001b[39m(table\u001b[39m.\u001b[39;49mtbody)\n\u001b[0;32m     13\u001b[0m \u001b[39mfor\u001b[39;00m tr \u001b[39min\u001b[39;00m table\u001b[39m.\u001b[39mtbody\u001b[39m.\u001b[39mfindAll(\u001b[39m'\u001b[39m\u001b[39mtr\u001b[39m\u001b[39m'\u001b[39m):\n\u001b[0;32m     14\u001b[0m     tr_data\u001b[39m=\u001b[39m[]\n",
      "\u001b[1;31mAttributeError\u001b[0m: 'NoneType' object has no attribute 'tbody'"
     ]
    }
   ],
   "source": [
    "data=[]\n",
    "\n",
    "def get_nl_data(home_url,page=0):\n",
    "\n",
    "    url = home_url+str(page)\n",
    "    print(url)\n",
    "    response = requests.get(url)\n",
    "    soup = BeautifulSoup(response.text, 'html.parser')\n",
    "    table = soup.find('table', class_='zztable stats')\n",
    "\n",
    "    print(table.tbody)\n",
    "\n",
    "    for tr in table.tbody.findAll('tr'):\n",
    "        tr_data=[]\n",
    "        for td in tr.findAll('td'):\n",
    "            tr_data.append(td.text)\n",
    "        data.append(tr_data)\n",
    "\n",
    "    page+=1\n",
    "    if(page<20):\n",
    "        get_nl_data(home_url,page=page)\n",
    "\n",
    "    else:\n",
    "        return data\n",
    "\n",
    "        \n",
    "data = get_nl_data(home_url)\n",
    "len(data)\n",
    "\n"
   ]
  },
  {
   "cell_type": "code",
   "execution_count": 29,
   "metadata": {},
   "outputs": [
    {
     "data": {
      "text/html": [
       "<div>\n",
       "<style scoped>\n",
       "    .dataframe tbody tr th:only-of-type {\n",
       "        vertical-align: middle;\n",
       "    }\n",
       "\n",
       "    .dataframe tbody tr th {\n",
       "        vertical-align: top;\n",
       "    }\n",
       "\n",
       "    .dataframe thead th {\n",
       "        text-align: right;\n",
       "    }\n",
       "</style>\n",
       "<table border=\"1\" class=\"dataframe\">\n",
       "  <thead>\n",
       "    <tr style=\"text-align: right;\">\n",
       "      <th></th>\n",
       "      <th>Player</th>\n",
       "      <th>M</th>\n",
       "      <th>G</th>\n",
       "      <th>ASS</th>\n",
       "      <th>DIN</th>\n",
       "      <th>PDIN</th>\n",
       "    </tr>\n",
       "  </thead>\n",
       "  <tbody>\n",
       "    <tr>\n",
       "      <th>0</th>\n",
       "      <td>Paul Mullin [Wrexham]</td>\n",
       "      <td>46</td>\n",
       "      <td>38</td>\n",
       "      <td>10</td>\n",
       "      <td>48</td>\n",
       "      <td>41</td>\n",
       "    </tr>\n",
       "    <tr>\n",
       "      <th>1</th>\n",
       "      <td>Macaulay Langstaff [Notts County]</td>\n",
       "      <td>47</td>\n",
       "      <td>42</td>\n",
       "      <td>8</td>\n",
       "      <td>50</td>\n",
       "      <td>41</td>\n",
       "    </tr>\n",
       "    <tr>\n",
       "      <th>2</th>\n",
       "      <td>Andrew Dallas [Chesterfield, Solihull Moors]</td>\n",
       "      <td>48</td>\n",
       "      <td>20</td>\n",
       "      <td>12</td>\n",
       "      <td>32</td>\n",
       "      <td>40</td>\n",
       "    </tr>\n",
       "    <tr>\n",
       "      <th>3</th>\n",
       "      <td>Mani Dieseruvwe [Halifax Town]</td>\n",
       "      <td>42</td>\n",
       "      <td>13</td>\n",
       "      <td>5</td>\n",
       "      <td>18</td>\n",
       "      <td>37</td>\n",
       "    </tr>\n",
       "    <tr>\n",
       "      <th>4</th>\n",
       "      <td>Lenell John-Lewis [York City]</td>\n",
       "      <td>41</td>\n",
       "      <td>14</td>\n",
       "      <td>5</td>\n",
       "      <td>19</td>\n",
       "      <td>35</td>\n",
       "    </tr>\n",
       "  </tbody>\n",
       "</table>\n",
       "</div>"
      ],
      "text/plain": [
       "                                           Player   M   G ASS DIN PDIN\n",
       "0                           Paul Mullin [Wrexham]  46  38  10  48   41\n",
       "1               Macaulay Langstaff [Notts County]  47  42   8  50   41\n",
       "2    Andrew Dallas [Chesterfield, Solihull Moors]  48  20  12  32   40\n",
       "3                  Mani Dieseruvwe [Halifax Town]  42  13   5  18   37\n",
       "4                   Lenell John-Lewis [York City]  41  14   5  19   35"
      ]
     },
     "execution_count": 29,
     "metadata": {},
     "output_type": "execute_result"
    }
   ],
   "source": [
    "# Define column names\n",
    "column_names = ths\n",
    "\n",
    "# Create DataFrame\n",
    "nl_df = pd.DataFrame(data, columns=column_names)\n",
    "\n",
    "# Drop the first column\n",
    "nl_df.drop(columns=df.columns[0], inplace=True)\n",
    "# Print the DataFrame\n",
    "nl_df.head()"
   ]
  },
  {
   "cell_type": "code",
   "execution_count": 30,
   "metadata": {},
   "outputs": [
    {
     "name": "stderr",
     "output_type": "stream",
     "text": [
      "C:\\Users\\adity\\AppData\\Local\\Temp\\ipykernel_7288\\3358147561.py:3: FutureWarning: In a future version of pandas all arguments of StringMethods.split except for the argument 'pat' will be keyword-only.\n",
      "  df[['Player', 'Club']] = df['Player'].str.split('[', 1, expand=True)\n",
      "C:\\Users\\adity\\AppData\\Local\\Temp\\ipykernel_7288\\3358147561.py:4: FutureWarning: The default value of regex will change from True to False in a future version. In addition, single character regular expressions will *not* be treated as literal strings when regex=True.\n",
      "  df['Club'] = df['Club'].str.replace(']', '')\n"
     ]
    },
    {
     "data": {
      "text/html": [
       "<div>\n",
       "<style scoped>\n",
       "    .dataframe tbody tr th:only-of-type {\n",
       "        vertical-align: middle;\n",
       "    }\n",
       "\n",
       "    .dataframe tbody tr th {\n",
       "        vertical-align: top;\n",
       "    }\n",
       "\n",
       "    .dataframe thead th {\n",
       "        text-align: right;\n",
       "    }\n",
       "</style>\n",
       "<table border=\"1\" class=\"dataframe\">\n",
       "  <thead>\n",
       "    <tr style=\"text-align: right;\">\n",
       "      <th></th>\n",
       "      <th>Player</th>\n",
       "      <th>M</th>\n",
       "      <th>G</th>\n",
       "      <th>ASS</th>\n",
       "      <th>DIN</th>\n",
       "      <th>PDIN</th>\n",
       "      <th>Club</th>\n",
       "    </tr>\n",
       "  </thead>\n",
       "  <tbody>\n",
       "    <tr>\n",
       "      <th>0</th>\n",
       "      <td>Paul Mullin</td>\n",
       "      <td>46</td>\n",
       "      <td>38</td>\n",
       "      <td>10</td>\n",
       "      <td>48</td>\n",
       "      <td>41</td>\n",
       "      <td>Wrexham</td>\n",
       "    </tr>\n",
       "    <tr>\n",
       "      <th>1</th>\n",
       "      <td>Macaulay Langstaff</td>\n",
       "      <td>47</td>\n",
       "      <td>42</td>\n",
       "      <td>8</td>\n",
       "      <td>50</td>\n",
       "      <td>41</td>\n",
       "      <td>Notts County</td>\n",
       "    </tr>\n",
       "    <tr>\n",
       "      <th>2</th>\n",
       "      <td>Andrew Dallas</td>\n",
       "      <td>48</td>\n",
       "      <td>20</td>\n",
       "      <td>12</td>\n",
       "      <td>32</td>\n",
       "      <td>40</td>\n",
       "      <td>Chesterfield, Solihull Moors</td>\n",
       "    </tr>\n",
       "    <tr>\n",
       "      <th>3</th>\n",
       "      <td>Mani Dieseruvwe</td>\n",
       "      <td>42</td>\n",
       "      <td>13</td>\n",
       "      <td>5</td>\n",
       "      <td>18</td>\n",
       "      <td>37</td>\n",
       "      <td>Halifax Town</td>\n",
       "    </tr>\n",
       "    <tr>\n",
       "      <th>4</th>\n",
       "      <td>Lenell John-Lewis</td>\n",
       "      <td>41</td>\n",
       "      <td>14</td>\n",
       "      <td>5</td>\n",
       "      <td>19</td>\n",
       "      <td>35</td>\n",
       "      <td>York City</td>\n",
       "    </tr>\n",
       "  </tbody>\n",
       "</table>\n",
       "</div>"
      ],
      "text/plain": [
       "               Player   M   G ASS DIN PDIN                          Club\n",
       "0         Paul Mullin  46  38  10  48   41                       Wrexham\n",
       "1  Macaulay Langstaff  47  42   8  50   41                  Notts County\n",
       "2       Andrew Dallas  48  20  12  32   40  Chesterfield, Solihull Moors\n",
       "3     Mani Dieseruvwe  42  13   5  18   37                  Halifax Town\n",
       "4   Lenell John-Lewis  41  14   5  19   35                     York City"
      ]
     },
     "execution_count": 30,
     "metadata": {},
     "output_type": "execute_result"
    }
   ],
   "source": [
    "def clean_player(df):\n",
    "    # Split the \"Player\" column into \"Player\" and \"Club\" columns\n",
    "    df[['Player', 'Club']] = df['Player'].str.split('[', 1, expand=True)\n",
    "    df['Club'] = df['Club'].str.replace(']', '')\n",
    "\n",
    "    # Strip leading/trailing whitespaces\n",
    "    df['Player'] = df['Player'].str.strip()\n",
    "    df['Club'] = df['Club'].str.strip()\n",
    "\n",
    "    return df\n",
    "\n",
    "nl_df = clean_player(nl_df)\n",
    "nl_df.head()"
   ]
  },
  {
   "cell_type": "code",
   "execution_count": null,
   "metadata": {},
   "outputs": [],
   "source": []
  }
 ],
 "metadata": {
  "kernelspec": {
   "display_name": "base",
   "language": "python",
   "name": "python3"
  },
  "language_info": {
   "codemirror_mode": {
    "name": "ipython",
    "version": 3
   },
   "file_extension": ".py",
   "mimetype": "text/x-python",
   "name": "python",
   "nbconvert_exporter": "python",
   "pygments_lexer": "ipython3",
   "version": "3.9.16"
  },
  "orig_nbformat": 4
 },
 "nbformat": 4,
 "nbformat_minor": 2
}
